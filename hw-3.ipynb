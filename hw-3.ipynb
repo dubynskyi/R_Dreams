{
 "cells": [
  {
   "cell_type": "code",
   "execution_count": 1,
   "id": "4386b3dc-eabd-48e1-8e5c-06a6ddf15a41",
   "metadata": {
    "execution": {
     "iopub.execute_input": "2025-07-23T09:03:18.672610Z",
     "iopub.status.busy": "2025-07-23T09:03:18.672258Z",
     "iopub.status.idle": "2025-07-23T09:03:40.224404Z",
     "shell.execute_reply": "2025-07-23T09:03:40.223663Z",
     "shell.execute_reply.started": "2025-07-23T09:03:18.672568Z"
    },
    "tags": []
   },
   "outputs": [
    {
     "data": {
      "application/vnd.jupyter.widget-view+json": {
       "model_id": "6161d75f7105432cb82f8cfbe9fe34c3",
       "version_major": 2,
       "version_minor": 0
      },
      "text/plain": [
       "VBox()"
      ]
     },
     "metadata": {},
     "output_type": "display_data"
    },
    {
     "name": "stdout",
     "output_type": "stream",
     "text": [
      "Starting Spark application\n"
     ]
    },
    {
     "data": {
      "text/html": [
       "<table>\n<tbody><tr><th>ID</th><th>YARN Application ID</th><th>Kind</th><th>State</th><th>Spark UI</th><th>Driver log</th><th>User</th><th>Current session?</th></tr><tr><td>180</td><td>application_1752831585852_0177</td><td>pyspark</td><td>idle</td><td><a target=\"_blank\" href=\"http://ip-172-31-8-201.eu-north-1.compute.internal:20888/proxy/application_1752831585852_0177/\" class=\"emr-proxy-link j-R6FU023NI8HL application_1752831585852_0177\" emr-resource=\"j-R6FU023NI8HL\n\" application-id=\"application_1752831585852_0177\">Link</a></td><td><a target=\"_blank\" href=\"http://ip-172-31-2-215.eu-north-1.compute.internal:8042/node/containerlogs/container_1752831585852_0177_01_000001/livy\">Link</a></td><td>None</td><td>✔</td></tr></tbody></table>"
      ],
      "text/plain": [
       "<IPython.core.display.HTML object>"
      ]
     },
     "metadata": {},
     "output_type": "display_data"
    },
    {
     "data": {
      "application/vnd.jupyter.widget-view+json": {
       "model_id": "",
       "version_major": 2,
       "version_minor": 0
      },
      "text/plain": [
       "FloatProgress(value=0.0, bar_style='info', description='Progress:', layout=Layout(height='25px', width='50%'),…"
      ]
     },
     "metadata": {},
     "output_type": "display_data"
    },
    {
     "name": "stdout",
     "output_type": "stream",
     "text": [
      "SparkSession available as 'spark'.\n"
     ]
    },
    {
     "data": {
      "application/vnd.jupyter.widget-view+json": {
       "model_id": "",
       "version_major": 2,
       "version_minor": 0
      },
      "text/plain": [
       "FloatProgress(value=0.0, bar_style='info', description='Progress:', layout=Layout(height='25px', width='50%'),…"
      ]
     },
     "metadata": {},
     "output_type": "display_data"
    },
    {
     "name": "stdout",
     "output_type": "stream",
     "text": [
      "3.5.5-amzn-0"
     ]
    }
   ],
   "source": [
    "print(spark.version)"
   ]
  },
  {
   "cell_type": "code",
   "execution_count": 2,
   "id": "4c1a90f9-b527-46e0-aa41-995fea881814",
   "metadata": {
    "execution": {
     "iopub.execute_input": "2025-07-23T09:03:56.876782Z",
     "iopub.status.busy": "2025-07-23T09:03:56.876542Z",
     "iopub.status.idle": "2025-07-23T09:03:58.136090Z",
     "shell.execute_reply": "2025-07-23T09:03:58.135370Z",
     "shell.execute_reply.started": "2025-07-23T09:03:56.876757Z"
    },
    "tags": []
   },
   "outputs": [
    {
     "data": {
      "application/vnd.jupyter.widget-view+json": {
       "model_id": "a59f405770cd4d338e11ba0eaf6fc4ec",
       "version_major": 2,
       "version_minor": 0
      },
      "text/plain": [
       "VBox()"
      ]
     },
     "metadata": {},
     "output_type": "display_data"
    },
    {
     "data": {
      "application/vnd.jupyter.widget-view+json": {
       "model_id": "",
       "version_major": 2,
       "version_minor": 0
      },
      "text/plain": [
       "FloatProgress(value=0.0, bar_style='info', description='Progress:', layout=Layout(height='25px', width='50%'),…"
      ]
     },
     "metadata": {},
     "output_type": "display_data"
    }
   ],
   "source": [
    "import boto3\n",
    "from pyspark.sql import SparkSession\n",
    "import pyspark.sql.functions as F\n",
    "\n",
    "spark = SparkSession.builder.appName(\"NYC Taxi ETL\").getOrCreate()\n",
    "s3 = boto3.client(\"s3\")\n",
    "\n",
    "def list_year_folders(bucket: str, prefix: str) -> list[str]:\n",
    "    paginator = s3.get_paginator(\"list_objects_v2\")\n",
    "    pages = paginator.paginate(Bucket=bucket, Prefix=prefix, Delimiter=\"/\")\n",
    "    prefixes = []\n",
    "    for page in pages:\n",
    "        for cp in page.get(\"CommonPrefixes\", []):\n",
    "            prefixes.append(cp[\"Prefix\"])\n",
    "    return prefixes\n",
    "\n",
    "BUCKET = \"robot-dreams-source-data\"\n",
    "Y_PREFIX = \"home-work-1-unified/nyc_taxi/yellow/\"\n",
    "G_PREFIX = \"home-work-1-unified/nyc_taxi/green/\"\n",
    "\n",
    "# 1) Збираємо список наявних папок\n",
    "yellow_years = list_year_folders(BUCKET, Y_PREFIX)\n",
    "green_years  = list_year_folders(BUCKET, G_PREFIX)"
   ]
  },
  {
   "cell_type": "code",
   "execution_count": 3,
   "id": "ac695e85-6a8f-49c8-96d2-f81467201552",
   "metadata": {
    "execution": {
     "iopub.execute_input": "2025-07-23T09:03:58.822825Z",
     "iopub.status.busy": "2025-07-23T09:03:58.822599Z",
     "iopub.status.idle": "2025-07-23T09:03:58.866614Z",
     "shell.execute_reply": "2025-07-23T09:03:58.865685Z",
     "shell.execute_reply.started": "2025-07-23T09:03:58.822800Z"
    },
    "tags": []
   },
   "outputs": [
    {
     "data": {
      "application/vnd.jupyter.widget-view+json": {
       "model_id": "83897ba8e0c74511ab799cdcb083ae86",
       "version_major": 2,
       "version_minor": 0
      },
      "text/plain": [
       "VBox()"
      ]
     },
     "metadata": {},
     "output_type": "display_data"
    },
    {
     "data": {
      "application/vnd.jupyter.widget-view+json": {
       "model_id": "",
       "version_major": 2,
       "version_minor": 0
      },
      "text/plain": [
       "FloatProgress(value=0.0, bar_style='info', description='Progress:', layout=Layout(height='25px', width='50%'),…"
      ]
     },
     "metadata": {},
     "output_type": "display_data"
    }
   ],
   "source": [
    "# 2) Формуємо повні s3a-шляхи\n",
    "yellow_paths = [f\"s3a://{BUCKET}/{p}\" for p in yellow_years]\n",
    "green_paths  = [f\"s3a://{BUCKET}/{p}\" for p in green_years]"
   ]
  },
  {
   "cell_type": "code",
   "execution_count": 4,
   "id": "cc7e0d13-1ab7-44be-a4c4-36514cb39823",
   "metadata": {
    "execution": {
     "iopub.execute_input": "2025-07-23T09:03:59.352569Z",
     "iopub.status.busy": "2025-07-23T09:03:59.352348Z",
     "iopub.status.idle": "2025-07-23T09:04:06.631084Z",
     "shell.execute_reply": "2025-07-23T09:04:06.630288Z",
     "shell.execute_reply.started": "2025-07-23T09:03:59.352544Z"
    },
    "tags": []
   },
   "outputs": [
    {
     "data": {
      "application/vnd.jupyter.widget-view+json": {
       "model_id": "6615fc525b774d288081cf1bff89a568",
       "version_major": 2,
       "version_minor": 0
      },
      "text/plain": [
       "VBox()"
      ]
     },
     "metadata": {},
     "output_type": "display_data"
    },
    {
     "data": {
      "application/vnd.jupyter.widget-view+json": {
       "model_id": "",
       "version_major": 2,
       "version_minor": 0
      },
      "text/plain": [
       "FloatProgress(value=0.0, bar_style='info', description='Progress:', layout=Layout(height='25px', width='50%'),…"
      ]
     },
     "metadata": {},
     "output_type": "display_data"
    }
   ],
   "source": [
    "# 3) Зчитуємо всі разом, додаємо taxi_type і об’єднуємо\n",
    "yellow_df = spark.read.parquet(*yellow_paths).withColumn(\"taxi_type\", F.lit(\"yellow\"))\n",
    "green_df  = spark.read.parquet(*green_paths) .withColumn(\"taxi_type\", F.lit(\"green\"))"
   ]
  },
  {
   "cell_type": "code",
   "execution_count": 5,
   "id": "b45a6806-d7de-4f89-8b2e-faa690e43a29",
   "metadata": {
    "execution": {
     "iopub.execute_input": "2025-07-23T09:04:06.633181Z",
     "iopub.status.busy": "2025-07-23T09:04:06.632434Z",
     "iopub.status.idle": "2025-07-23T09:04:06.940758Z",
     "shell.execute_reply": "2025-07-23T09:04:06.940028Z",
     "shell.execute_reply.started": "2025-07-23T09:04:06.633138Z"
    },
    "tags": []
   },
   "outputs": [
    {
     "data": {
      "application/vnd.jupyter.widget-view+json": {
       "model_id": "98a42b7720a04e7b9df6905d5e0fc178",
       "version_major": 2,
       "version_minor": 0
      },
      "text/plain": [
       "VBox()"
      ]
     },
     "metadata": {},
     "output_type": "display_data"
    },
    {
     "data": {
      "application/vnd.jupyter.widget-view+json": {
       "model_id": "",
       "version_major": 2,
       "version_minor": 0
      },
      "text/plain": [
       "FloatProgress(value=0.0, bar_style='info', description='Progress:', layout=Layout(height='25px', width='50%'),…"
      ]
     },
     "metadata": {},
     "output_type": "display_data"
    }
   ],
   "source": [
    "# 4) Об’єднуємо в один DataFrame\n",
    "raw_trips_df = yellow_df.unionByName(green_df)"
   ]
  },
  {
   "cell_type": "code",
   "execution_count": 6,
   "id": "52e9f902-09de-4a1a-add9-e8fd957e3fae",
   "metadata": {
    "execution": {
     "iopub.execute_input": "2025-07-23T09:04:06.942208Z",
     "iopub.status.busy": "2025-07-23T09:04:06.942037Z",
     "iopub.status.idle": "2025-07-23T09:04:12.215921Z",
     "shell.execute_reply": "2025-07-23T09:04:12.215119Z",
     "shell.execute_reply.started": "2025-07-23T09:04:06.942186Z"
    },
    "tags": []
   },
   "outputs": [
    {
     "data": {
      "application/vnd.jupyter.widget-view+json": {
       "model_id": "8536cef97e884261809bffb1467b8574",
       "version_major": 2,
       "version_minor": 0
      },
      "text/plain": [
       "VBox()"
      ]
     },
     "metadata": {},
     "output_type": "display_data"
    },
    {
     "data": {
      "application/vnd.jupyter.widget-view+json": {
       "model_id": "",
       "version_major": 2,
       "version_minor": 0
      },
      "text/plain": [
       "FloatProgress(value=0.0, bar_style='info', description='Progress:', layout=Layout(height='25px', width='50%'),…"
      ]
     },
     "metadata": {},
     "output_type": "display_data"
    },
    {
     "name": "stdout",
     "output_type": "stream",
     "text": [
      "root\n",
      " |-- VendorID: long (nullable = true)\n",
      " |-- passenger_count: long (nullable = true)\n",
      " |-- trip_distance: double (nullable = true)\n",
      " |-- RatecodeID: long (nullable = true)\n",
      " |-- store_and_fwd_flag: string (nullable = true)\n",
      " |-- PULocationID: long (nullable = true)\n",
      " |-- DOLocationID: long (nullable = true)\n",
      " |-- payment_type: long (nullable = true)\n",
      " |-- fare_amount: double (nullable = true)\n",
      " |-- extra: double (nullable = true)\n",
      " |-- mta_tax: double (nullable = true)\n",
      " |-- tip_amount: double (nullable = true)\n",
      " |-- tolls_amount: double (nullable = true)\n",
      " |-- improvement_surcharge: double (nullable = true)\n",
      " |-- total_amount: double (nullable = true)\n",
      " |-- congestion_surcharge: double (nullable = true)\n",
      " |-- tpep_pickup_datetime: timestamp_ntz (nullable = true)\n",
      " |-- tpep_dropoff_datetime: timestamp_ntz (nullable = true)\n",
      " |-- Airport_fee: double (nullable = true)\n",
      " |-- taxi_type: string (nullable = false)\n",
      "\n",
      "+--------+---------------+-------------+----------+------------------+------------+------------+------------+-----------+-----+-------+----------+------------+---------------------+------------+--------------------+--------------------+---------------------+-----------+---------+\n",
      "|VendorID|passenger_count|trip_distance|RatecodeID|store_and_fwd_flag|PULocationID|DOLocationID|payment_type|fare_amount|extra|mta_tax|tip_amount|tolls_amount|improvement_surcharge|total_amount|congestion_surcharge|tpep_pickup_datetime|tpep_dropoff_datetime|Airport_fee|taxi_type|\n",
      "+--------+---------------+-------------+----------+------------------+------------+------------+------------+-----------+-----+-------+----------+------------+---------------------+------------+--------------------+--------------------+---------------------+-----------+---------+\n",
      "|1       |1              |0.0          |1         |N                 |140         |140         |2           |2.5        |0.5  |0.5    |0.0       |0.0         |0.0                  |3.5         |NULL                |2014-02-01 00:30:05 |2014-02-01 00:30:17  |NULL       |yellow   |\n",
      "|1       |1              |0.0          |1         |N                 |186         |186         |2           |3.0        |0.5  |0.5    |0.0       |0.0         |0.0                  |4.0         |NULL                |2014-02-01 00:16:52 |2014-02-01 00:18:22  |NULL       |yellow   |\n",
      "|1       |1              |2.0          |1         |N                 |107         |249         |1           |9.5        |0.5  |0.5    |2.1       |0.0         |0.0                  |12.6        |NULL                |2014-02-01 00:05:03 |2014-02-01 00:15:44  |NULL       |yellow   |\n",
      "|1       |1              |0.7          |1         |N                 |158         |90          |1           |4.5        |0.5  |0.5    |1.5       |0.0         |0.0                  |7.0         |NULL                |2014-02-01 00:17:19 |2014-02-01 00:20:15  |NULL       |yellow   |\n",
      "|1       |2              |2.4          |1         |N                 |234         |246         |1           |11.5       |0.5  |0.5    |2.5       |0.0         |0.0                  |15.0        |NULL                |2014-02-01 00:24:08 |2014-02-01 00:37:07  |NULL       |yellow   |\n",
      "+--------+---------------+-------------+----------+------------------+------------+------------+------------+-----------+-----+-------+----------+------------+---------------------+------------+--------------------+--------------------+---------------------+-----------+---------+\n",
      "only showing top 5 rows"
     ]
    }
   ],
   "source": [
    "# 5) Перевірка: кілька рядків і схема\n",
    "raw_trips_df.printSchema()\n",
    "raw_trips_df.show(5, truncate=False)"
   ]
  },
  {
   "cell_type": "code",
   "execution_count": 7,
   "id": "5ef2f259-74a0-4c64-ad27-3430c340e172",
   "metadata": {
    "execution": {
     "iopub.execute_input": "2025-07-23T09:04:12.217832Z",
     "iopub.status.busy": "2025-07-23T09:04:12.217586Z",
     "iopub.status.idle": "2025-07-23T09:04:12.471298Z",
     "shell.execute_reply": "2025-07-23T09:04:12.470590Z",
     "shell.execute_reply.started": "2025-07-23T09:04:12.217796Z"
    },
    "tags": []
   },
   "outputs": [
    {
     "data": {
      "application/vnd.jupyter.widget-view+json": {
       "model_id": "c6a552edbca6411f85b3f2a1c65a0d75",
       "version_major": 2,
       "version_minor": 0
      },
      "text/plain": [
       "VBox()"
      ]
     },
     "metadata": {},
     "output_type": "display_data"
    },
    {
     "data": {
      "application/vnd.jupyter.widget-view+json": {
       "model_id": "",
       "version_major": 2,
       "version_minor": 0
      },
      "text/plain": [
       "FloatProgress(value=0.0, bar_style='info', description='Progress:', layout=Layout(height='25px', width='50%'),…"
      ]
     },
     "metadata": {},
     "output_type": "display_data"
    }
   ],
   "source": [
    "# 6) Фільтрація аномальних поїздок і розрахунок duration_sec\n",
    "filtered_df = raw_trips_df \\\n",
    "    .withColumn(\n",
    "        \"duration_sec\",\n",
    "        F.unix_timestamp(\"tpep_dropoff_datetime\")\n",
    "        - F.unix_timestamp(\"tpep_pickup_datetime\")\n",
    "    ) \\\n",
    "    .filter(\n",
    "        (F.col(\"trip_distance\") >= 0.1) &\n",
    "        (F.col(\"total_amount\")  >= 2)   &\n",
    "        (F.col(\"duration_sec\")   >= 60)\n",
    "    )"
   ]
  },
  {
   "cell_type": "code",
   "execution_count": 8,
   "id": "3c9c15ee-d58a-43b7-97a1-e96ce17ae23f",
   "metadata": {
    "execution": {
     "iopub.execute_input": "2025-07-23T09:04:12.472473Z",
     "iopub.status.busy": "2025-07-23T09:04:12.472294Z",
     "iopub.status.idle": "2025-07-23T09:04:12.721049Z",
     "shell.execute_reply": "2025-07-23T09:04:12.720420Z",
     "shell.execute_reply.started": "2025-07-23T09:04:12.472448Z"
    },
    "tags": []
   },
   "outputs": [
    {
     "data": {
      "application/vnd.jupyter.widget-view+json": {
       "model_id": "50e0248d0e5a440f9ffcfe57e01f4a56",
       "version_major": 2,
       "version_minor": 0
      },
      "text/plain": [
       "VBox()"
      ]
     },
     "metadata": {},
     "output_type": "display_data"
    },
    {
     "data": {
      "application/vnd.jupyter.widget-view+json": {
       "model_id": "",
       "version_major": 2,
       "version_minor": 0
      },
      "text/plain": [
       "FloatProgress(value=0.0, bar_style='info', description='Progress:', layout=Layout(height='25px', width='50%'),…"
      ]
     },
     "metadata": {},
     "output_type": "display_data"
    }
   ],
   "source": [
    "# 7) Додаємо pickup_hour, pickup_day_of_week та duration_min\n",
    "processed_df = filtered_df \\\n",
    "    .withColumn(\"pickup_hour\", F.hour(\"tpep_pickup_datetime\")) \\\n",
    "    .withColumn(\"pickup_day_of_week\", F.date_format(\"tpep_pickup_datetime\", \"EEEE\")) \\\n",
    "    .withColumn(\"duration_min\", (F.col(\"duration_sec\")/60).cast(\"double\"))"
   ]
  },
  {
   "cell_type": "code",
   "execution_count": 9,
   "id": "3346c99b-5a32-4c9f-88ef-25d9ac84d5da",
   "metadata": {
    "execution": {
     "iopub.execute_input": "2025-07-23T09:04:12.722175Z",
     "iopub.status.busy": "2025-07-23T09:04:12.721997Z",
     "iopub.status.idle": "2025-07-23T09:04:14.981263Z",
     "shell.execute_reply": "2025-07-23T09:04:14.980526Z",
     "shell.execute_reply.started": "2025-07-23T09:04:12.722151Z"
    },
    "tags": []
   },
   "outputs": [
    {
     "data": {
      "application/vnd.jupyter.widget-view+json": {
       "model_id": "9f5cbfc76628459fb0bbd99ccbe6c3ae",
       "version_major": 2,
       "version_minor": 0
      },
      "text/plain": [
       "VBox()"
      ]
     },
     "metadata": {},
     "output_type": "display_data"
    },
    {
     "data": {
      "application/vnd.jupyter.widget-view+json": {
       "model_id": "",
       "version_major": 2,
       "version_minor": 0
      },
      "text/plain": [
       "FloatProgress(value=0.0, bar_style='info', description='Progress:', layout=Layout(height='25px', width='50%'),…"
      ]
     },
     "metadata": {},
     "output_type": "display_data"
    },
    {
     "name": "stdout",
     "output_type": "stream",
     "text": [
      "root\n",
      " |-- VendorID: long (nullable = true)\n",
      " |-- passenger_count: long (nullable = true)\n",
      " |-- trip_distance: double (nullable = true)\n",
      " |-- RatecodeID: long (nullable = true)\n",
      " |-- store_and_fwd_flag: string (nullable = true)\n",
      " |-- PULocationID: long (nullable = true)\n",
      " |-- DOLocationID: long (nullable = true)\n",
      " |-- payment_type: long (nullable = true)\n",
      " |-- fare_amount: double (nullable = true)\n",
      " |-- extra: double (nullable = true)\n",
      " |-- mta_tax: double (nullable = true)\n",
      " |-- tip_amount: double (nullable = true)\n",
      " |-- tolls_amount: double (nullable = true)\n",
      " |-- improvement_surcharge: double (nullable = true)\n",
      " |-- total_amount: double (nullable = true)\n",
      " |-- congestion_surcharge: double (nullable = true)\n",
      " |-- tpep_pickup_datetime: timestamp_ntz (nullable = true)\n",
      " |-- tpep_dropoff_datetime: timestamp_ntz (nullable = true)\n",
      " |-- Airport_fee: double (nullable = true)\n",
      " |-- taxi_type: string (nullable = false)\n",
      " |-- duration_sec: long (nullable = true)\n",
      " |-- pickup_hour: integer (nullable = true)\n",
      " |-- pickup_day_of_week: string (nullable = true)\n",
      " |-- duration_min: double (nullable = true)\n",
      "\n",
      "+--------+---------------+-------------+----------+------------------+------------+------------+------------+-----------+-----+-------+----------+------------+---------------------+------------+--------------------+--------------------+---------------------+-----------+---------+------------+-----------+------------------+------------------+\n",
      "|VendorID|passenger_count|trip_distance|RatecodeID|store_and_fwd_flag|PULocationID|DOLocationID|payment_type|fare_amount|extra|mta_tax|tip_amount|tolls_amount|improvement_surcharge|total_amount|congestion_surcharge|tpep_pickup_datetime|tpep_dropoff_datetime|Airport_fee|taxi_type|duration_sec|pickup_hour|pickup_day_of_week|duration_min      |\n",
      "+--------+---------------+-------------+----------+------------------+------------+------------+------------+-----------+-----+-------+----------+------------+---------------------+------------+--------------------+--------------------+---------------------+-----------+---------+------------+-----------+------------------+------------------+\n",
      "|1       |1              |2.0          |1         |N                 |107         |249         |1           |9.5        |0.5  |0.5    |2.1       |0.0         |0.0                  |12.6        |NULL                |2014-02-01 00:05:03 |2014-02-01 00:15:44  |NULL       |yellow   |641         |0          |Saturday          |10.683333333333334|\n",
      "|1       |1              |0.7          |1         |N                 |158         |90          |1           |4.5        |0.5  |0.5    |1.5       |0.0         |0.0                  |7.0         |NULL                |2014-02-01 00:17:19 |2014-02-01 00:20:15  |NULL       |yellow   |176         |0          |Saturday          |2.933333333333333 |\n",
      "|1       |2              |2.4          |1         |N                 |234         |246         |1           |11.5       |0.5  |0.5    |2.5       |0.0         |0.0                  |15.0        |NULL                |2014-02-01 00:24:08 |2014-02-01 00:37:07  |NULL       |yellow   |779         |0          |Saturday          |12.983333333333333|\n",
      "|1       |1              |2.3          |1         |N                 |107         |140         |1           |9.0        |0.5  |0.5    |2.5       |0.0         |0.0                  |12.5        |NULL                |2014-02-01 00:00:23 |2014-02-01 00:09:26  |NULL       |yellow   |543         |0          |Saturday          |9.05              |\n",
      "|1       |1              |0.9          |1         |N                 |162         |141         |2           |5.0        |0.5  |0.5    |0.0       |0.0         |0.0                  |6.0         |NULL                |2014-02-01 00:18:58 |2014-02-01 00:22:34  |NULL       |yellow   |216         |0          |Saturday          |3.6               |\n",
      "+--------+---------------+-------------+----------+------------------+------------+------------+------------+-----------+-----+-------+----------+------------+---------------------+------------+--------------------+--------------------+---------------------+-----------+---------+------------+-----------+------------------+------------------+\n",
      "only showing top 5 rows"
     ]
    }
   ],
   "source": [
    "# 8) Перевірка: схема та перші 5 рядків\n",
    "processed_df.printSchema()\n",
    "processed_df.show(5, truncate=False)"
   ]
  },
  {
   "cell_type": "code",
   "execution_count": 10,
   "id": "dba44c2a-d3e4-406d-aaf8-63676672f1d9",
   "metadata": {
    "execution": {
     "iopub.execute_input": "2025-07-23T09:04:14.982729Z",
     "iopub.status.busy": "2025-07-23T09:04:14.982478Z",
     "iopub.status.idle": "2025-07-23T09:04:15.759495Z",
     "shell.execute_reply": "2025-07-23T09:04:15.758791Z",
     "shell.execute_reply.started": "2025-07-23T09:04:14.982691Z"
    },
    "tags": []
   },
   "outputs": [
    {
     "data": {
      "application/vnd.jupyter.widget-view+json": {
       "model_id": "fa79d1055cf54ef6abd9c9669e6795a1",
       "version_major": 2,
       "version_minor": 0
      },
      "text/plain": [
       "VBox()"
      ]
     },
     "metadata": {},
     "output_type": "display_data"
    },
    {
     "data": {
      "application/vnd.jupyter.widget-view+json": {
       "model_id": "",
       "version_major": 2,
       "version_minor": 0
      },
      "text/plain": [
       "FloatProgress(value=0.0, bar_style='info', description='Progress:', layout=Layout(height='25px', width='50%'),…"
      ]
     },
     "metadata": {},
     "output_type": "display_data"
    }
   ],
   "source": [
    "# 9) при зчитуванні csv запит довго відпрацьовував, тому я зробив трохи іншу логіку збору цього файлу (хоча можна було простіше: https://spark.apache.org/docs/latest/sql-data-sources-csv.html)\n",
    "\n",
    "import boto3\n",
    "import csv\n",
    "from io import StringIO\n",
    "from pyspark.sql import functions as F\n",
    "\n",
    "# Завантажуємо CSV напряму через boto3 (лише GetObject)\n",
    "s3 = boto3.client(\"s3\")\n",
    "obj = s3.get_object(\n",
    "    Bucket=\"robot-dreams-source-data\",\n",
    "    Key=\"home-work-1-unified/nyc_taxi/taxi_zone_lookup.csv\"\n",
    ")\n",
    "text = obj[\"Body\"].read().decode(\"utf-8\")\n",
    "\n",
    "# Розбиваємо на рядки і парсимо через csv.DictReader\n",
    "lines = text.splitlines()\n",
    "reader = csv.DictReader(lines)  \n",
    "rows = [row for row in reader]  # кожен row: {'LocationID': '1', 'Borough':'EWR', 'Zone':'Newark Airport', ...}\n",
    "\n",
    "# Створюємо Spark DataFrame (усі колонки спочатку string)\n",
    "zones_df_spark = spark.createDataFrame(rows)\n",
    "\n",
    "# Кастимо типи руками\n",
    "zones_df = zones_df_spark \\\n",
    "    .withColumn(\"LocationID\",   F.col(\"LocationID\").cast(\"int\")) \\\n",
    "    .withColumn(\"Borough\",      F.col(\"Borough\").cast(\"string\")) \\\n",
    "    .withColumn(\"Zone\",         F.col(\"Zone\").cast(\"string\")) \\\n",
    "    .withColumn(\"service_zone\", F.col(\"service_zone\").cast(\"string\"))"
   ]
  },
  {
   "cell_type": "code",
   "execution_count": 11,
   "id": "2c338f04-0b43-4aed-be1d-77e7fba53b4c",
   "metadata": {
    "execution": {
     "iopub.execute_input": "2025-07-23T09:04:15.762075Z",
     "iopub.status.busy": "2025-07-23T09:04:15.761822Z",
     "iopub.status.idle": "2025-07-23T09:04:16.006916Z",
     "shell.execute_reply": "2025-07-23T09:04:16.006196Z",
     "shell.execute_reply.started": "2025-07-23T09:04:15.762037Z"
    },
    "tags": []
   },
   "outputs": [
    {
     "data": {
      "application/vnd.jupyter.widget-view+json": {
       "model_id": "d24f14cb928c4ca28d375058379ebe2a",
       "version_major": 2,
       "version_minor": 0
      },
      "text/plain": [
       "VBox()"
      ]
     },
     "metadata": {},
     "output_type": "display_data"
    },
    {
     "data": {
      "application/vnd.jupyter.widget-view+json": {
       "model_id": "",
       "version_major": 2,
       "version_minor": 0
      },
      "text/plain": [
       "FloatProgress(value=0.0, bar_style='info', description='Progress:', layout=Layout(height='25px', width='50%'),…"
      ]
     },
     "metadata": {},
     "output_type": "display_data"
    }
   ],
   "source": [
    "# 10) Готуємо lookup для JOIN\n",
    "pickup_lookup = zones_df.select(\n",
    "    F.col(\"LocationID\").alias(\"PULocationID\"),\n",
    "    F.col(\"Zone\")      .alias(\"pickup_zone\")\n",
    ")\n",
    "dropoff_lookup = zones_df.select(\n",
    "    F.col(\"LocationID\").alias(\"DOLocationID\"),\n",
    "    F.col(\"Zone\")      .alias(\"dropoff_zone\")\n",
    ")\n",
    "\n",
    "# 11) JOIN з processed_df\n",
    "joined_df = processed_df \\\n",
    "    .join(pickup_lookup,  on=\"PULocationID\", how=\"left\") \\\n",
    "    .join(dropoff_lookup, on=\"DOLocationID\", how=\"left\")"
   ]
  },
  {
   "cell_type": "code",
   "execution_count": 12,
   "id": "78d2f8f4-23df-4afa-87c7-c39f30f43acc",
   "metadata": {
    "execution": {
     "iopub.execute_input": "2025-07-23T09:04:16.008528Z",
     "iopub.status.busy": "2025-07-23T09:04:16.008257Z",
     "iopub.status.idle": "2025-07-23T09:04:16.255117Z",
     "shell.execute_reply": "2025-07-23T09:04:16.254386Z",
     "shell.execute_reply.started": "2025-07-23T09:04:16.008473Z"
    },
    "tags": []
   },
   "outputs": [
    {
     "data": {
      "application/vnd.jupyter.widget-view+json": {
       "model_id": "48bb172418804c8388746032a2322cee",
       "version_major": 2,
       "version_minor": 0
      },
      "text/plain": [
       "VBox()"
      ]
     },
     "metadata": {},
     "output_type": "display_data"
    },
    {
     "data": {
      "application/vnd.jupyter.widget-view+json": {
       "model_id": "",
       "version_major": 2,
       "version_minor": 0
      },
      "text/plain": [
       "FloatProgress(value=0.0, bar_style='info', description='Progress:', layout=Layout(height='25px', width='50%'),…"
      ]
     },
     "metadata": {},
     "output_type": "display_data"
    }
   ],
   "source": [
    "# 12) Створюємо zone_summary із необхідними агрегаціями\n",
    "zone_summary = joined_df.groupBy(\"pickup_zone\").agg(\n",
    "    # Загальна кількість поїздок\n",
    "    F.count(\"*\").alias(\"total_trips\"),\n",
    "    # Cередня відстань поїздки\n",
    "    F.avg(\"trip_distance\").alias(\"avg_trip_distance\"),\n",
    "    # Середній загальний тариф\n",
    "    F.avg(\"total_amount\").alias(\"avg_total_amount\"),\n",
    "    # Середня сума чайових\n",
    "    F.avg(\"tip_amount\").alias(\"avg_tip_amount\"),\n",
    "    # Частка жовтих поїздок у зоні\n",
    "    (F.sum(F.when(F.col(\"taxi_type\") == \"yellow\", 1).otherwise(0)) \n",
    "     / F.count(\"*\")\n",
    "    ).alias(\"yellow_share\"),\n",
    "    # Частка зелених поїздок у зоні\n",
    "    (F.sum(F.when(F.col(\"taxi_type\") == \"green\", 1).otherwise(0)) \n",
    "     / F.count(\"*\")\n",
    "    ).alias(\"green_share\"),\n",
    "    # Максимальна відстань поїздки\n",
    "    F.max(\"trip_distance\").alias(\"max_trip_distance\"),\n",
    "    # Мінімальна сума чайових\n",
    "    F.min(\"tip_amount\").alias(\"min_tip_amount\")\n",
    ")"
   ]
  },
  {
   "cell_type": "code",
   "execution_count": 13,
   "id": "8efb6c24-b416-48e9-837a-cb0e0a3ca3c7",
   "metadata": {
    "execution": {
     "iopub.execute_input": "2025-07-23T09:04:16.256133Z",
     "iopub.status.busy": "2025-07-23T09:04:16.255968Z",
     "iopub.status.idle": "2025-07-23T09:08:06.096530Z",
     "shell.execute_reply": "2025-07-23T09:08:06.095924Z",
     "shell.execute_reply.started": "2025-07-23T09:04:16.256110Z"
    },
    "tags": []
   },
   "outputs": [
    {
     "data": {
      "application/vnd.jupyter.widget-view+json": {
       "model_id": "5fce3334f1154aee9f2140acee2d994b",
       "version_major": 2,
       "version_minor": 0
      },
      "text/plain": [
       "VBox()"
      ]
     },
     "metadata": {},
     "output_type": "display_data"
    },
    {
     "data": {
      "application/vnd.jupyter.widget-view+json": {
       "model_id": "",
       "version_major": 2,
       "version_minor": 0
      },
      "text/plain": [
       "FloatProgress(value=0.0, bar_style='info', description='Progress:', layout=Layout(height='25px', width='50%'),…"
      ]
     },
     "metadata": {},
     "output_type": "display_data"
    },
    {
     "name": "stdout",
     "output_type": "stream",
     "text": [
      "Zone_summary written to s3a://odubynskyi-emr-studio/results/zone_statistic/22.07.2025/zone_statistic.parquet"
     ]
    }
   ],
   "source": [
    "# 13) # Пишемо вже маленький DF в S3 одним файлом\n",
    "bucket      = \"odubynskyi-emr-studio\"\n",
    "run_date    = \"22.07.2025\"\n",
    "output_path = f\"s3a://{bucket}/results/zone_statistic/{run_date}/zone_statistic.parquet\"\n",
    "\n",
    "# repartition(1) робить один таск shuffle замість багатьох\n",
    "zone_summary.repartition(1) \\\n",
    "    .write \\\n",
    "    .mode(\"overwrite\") \\\n",
    "    .parquet(output_path)\n",
    "\n",
    "print(f\"Zone_summary written to {output_path}\")"
   ]
  },
  {
   "cell_type": "code",
   "execution_count": 14,
   "id": "3d288424-a500-4246-85b6-7f7404ef26e2",
   "metadata": {
    "execution": {
     "iopub.execute_input": "2025-07-23T09:08:06.097682Z",
     "iopub.status.busy": "2025-07-23T09:08:06.097512Z",
     "iopub.status.idle": "2025-07-23T09:10:15.682684Z",
     "shell.execute_reply": "2025-07-23T09:10:15.681954Z",
     "shell.execute_reply.started": "2025-07-23T09:08:06.097659Z"
    },
    "tags": []
   },
   "outputs": [
    {
     "data": {
      "application/vnd.jupyter.widget-view+json": {
       "model_id": "677baadd093b4698a53c5f331d034df5",
       "version_major": 2,
       "version_minor": 0
      },
      "text/plain": [
       "VBox()"
      ]
     },
     "metadata": {},
     "output_type": "display_data"
    },
    {
     "data": {
      "application/vnd.jupyter.widget-view+json": {
       "model_id": "",
       "version_major": 2,
       "version_minor": 0
      },
      "text/plain": [
       "FloatProgress(value=0.0, bar_style='info', description='Progress:', layout=Layout(height='25px', width='50%'),…"
      ]
     },
     "metadata": {},
     "output_type": "display_data"
    },
    {
     "name": "stdout",
     "output_type": "stream",
     "text": [
      "root\n",
      " |-- pickup_zone: string (nullable = true)\n",
      " |-- total_trips: long (nullable = false)\n",
      " |-- high_fare_share: double (nullable = true)\n",
      "\n",
      "+------------------------------+-----------+--------------------+\n",
      "|pickup_zone                   |total_trips|high_fare_share     |\n",
      "+------------------------------+-----------+--------------------+\n",
      "|Pelham Parkway                |1424       |0.32724719101123595 |\n",
      "|Rego Park                     |9043       |0.3168196395001659  |\n",
      "|Kew Gardens Hills             |2685       |0.3437616387337058  |\n",
      "|Jackson Heights               |45404      |0.13600123337150913 |\n",
      "|Yorkville West                |1814066    |0.05382163603749809 |\n",
      "|Stuy Town/Peter Cooper Village|277540     |0.047798515529293074|\n",
      "|Clinton Hill                  |38527      |0.09479066628598126 |\n",
      "|East Harlem South             |676749     |0.06344449714739142 |\n",
      "|Longwood                      |987        |0.3171225937183384  |\n",
      "|Hudson Sq                     |687364     |0.07586955383173981 |\n",
      "+------------------------------+-----------+--------------------+\n",
      "only showing top 10 rows\n",
      "\n",
      "Wednesday stats written to s3a://odubynskyi-emr-studio/results/zone_days_statstic/22.07.2025/zone_days_statstic.parquet"
     ]
    }
   ],
   "source": [
    "# 14) Фільтрація поїздок у середу\n",
    "wednesday_df = joined_df.filter(\n",
    "    F.col(\"pickup_day_of_week\") == \"Wednesday\"\n",
    ")\n",
    "\n",
    "# 15) Агрегація по зоні посадки:\n",
    "#    – total_trips      загальна кількість поїздок\n",
    "#    – high_fare_share  частка поїздок з total_amount > $30\n",
    "wednesday_zone_stats = wednesday_df.groupBy(\"pickup_zone\").agg(\n",
    "    F.count(\"*\").alias(\"total_trips\"),\n",
    "    (\n",
    "      F.sum(F.when(F.col(\"total_amount\") > 30, 1).otherwise(0)) \n",
    "      / F.count(\"*\")\n",
    "    ).alias(\"high_fare_share\")\n",
    ")\n",
    "\n",
    "# 16) Перевірка результату\n",
    "wednesday_zone_stats.printSchema()\n",
    "wednesday_zone_stats.show(10, truncate=False)\n",
    "\n",
    "# 17) Збереження результату одним файлом у S3\n",
    "bucket    = \"odubynskyi-emr-studio\"\n",
    "run_date  = \"22.07.2025\"\n",
    "output    = f\"s3a://{bucket}/results/zone_days_statstic/{run_date}/zone_days_statstic.parquet\"\n",
    "\n",
    "wednesday_zone_stats.coalesce(1) \\\n",
    "    .write \\\n",
    "    .mode(\"overwrite\") \\\n",
    "    .parquet(output)\n",
    "\n",
    "# 18) Підтвердження запису\n",
    "print(f\"Wednesday stats written to {output}\")"
   ]
  },
  {
   "cell_type": "code",
   "execution_count": 16,
   "id": "73bc0750-e890-4d18-9eb5-d18a8e91182e",
   "metadata": {
    "execution": {
     "iopub.execute_input": "2025-07-23T09:11:39.192156Z",
     "iopub.status.busy": "2025-07-23T09:11:39.191791Z",
     "iopub.status.idle": "2025-07-23T09:13:00.643091Z",
     "shell.execute_reply": "2025-07-23T09:13:00.642347Z",
     "shell.execute_reply.started": "2025-07-23T09:11:39.192116Z"
    }
   },
   "outputs": [
    {
     "data": {
      "application/vnd.jupyter.widget-view+json": {
       "model_id": "b1413783f3c84b018b97a6b6e5df7f61",
       "version_major": 2,
       "version_minor": 0
      },
      "text/plain": [
       "VBox()"
      ]
     },
     "metadata": {},
     "output_type": "display_data"
    },
    {
     "data": {
      "application/vnd.jupyter.widget-view+json": {
       "model_id": "",
       "version_major": 2,
       "version_minor": 0
      },
      "text/plain": [
       "FloatProgress(value=0.0, bar_style='info', description='Progress:', layout=Layout(height='25px', width='50%'),…"
      ]
     },
     "metadata": {},
     "output_type": "display_data"
    },
    {
     "name": "stdout",
     "output_type": "stream",
     "text": [
      "root\n",
      " |-- pickup_zone: string (nullable = true)\n",
      " |-- total_trips: long (nullable = false)\n",
      " |-- avg_trip_distance: double (nullable = true)\n",
      " |-- avg_total_amount: double (nullable = true)\n",
      " |-- avg_tip_amount: double (nullable = true)\n",
      " |-- yellow_share: double (nullable = true)\n",
      " |-- green_share: double (nullable = true)\n",
      " |-- max_trip_distance: double (nullable = true)\n",
      " |-- min_tip_amount: double (nullable = true)\n",
      "\n",
      "+------------------------------+-----------+------------------+------------------+------------------+------------+-----------+-----------------+--------------+\n",
      "|pickup_zone                   |total_trips|avg_trip_distance |avg_total_amount  |avg_tip_amount    |yellow_share|green_share|max_trip_distance|min_tip_amount|\n",
      "+------------------------------+-----------+------------------+------------------+------------------+------------+-----------+-----------------+--------------+\n",
      "|Westerleigh                   |609        |8.840492610837437 |41.99747126436779 |3.592692939244664 |1.0         |0.0        |124.4            |0.0           |\n",
      "|Charleston/Tottenville        |1521       |29.415976331360934|90.85246548323472 |1.9230506245890864|1.0         |0.0        |103.0            |0.0           |\n",
      "|Pelham Parkway                |9882       |5.780393645011132 |25.23180530257032 |1.188381906496661 |1.0         |0.0        |104.15           |0.0           |\n",
      "|Rego Park                     |70228      |5.7197730250042715|24.594712365438195|2.01393091074785  |1.0         |0.0        |46532.54         |0.0           |\n",
      "|Kew Gardens Hills             |18556      |9.904392110368617 |26.047876697564156|1.536782172882087 |1.0         |0.0        |68704.94         |0.0           |\n",
      "|Jackson Heights               |403614     |3.8550137012095727|16.126850381801138|0.9661351687503399|1.0         |0.0        |106647.2         |0.0           |\n",
      "|Yorkville West                |13157989   |5.715718586632023 |13.977427789301627|1.5691357022718537|1.0         |0.0        |1.46800001E7     |0.0           |\n",
      "|Stuy Town/Peter Cooper Village|2159079    |10.69200077903582 |14.37108867716238 |1.6167479837467809|1.0         |0.0        |8000040.0        |0.0           |\n",
      "|Clinton Hill                  |345307     |6.309968694524004 |15.763076161213473|1.5689301693855036|1.0         |0.0        |250051.0         |0.0           |\n",
      "|East Harlem South             |4687640    |3.41085734826053  |14.03799860058041 |1.2758242079169984|1.0         |0.0        |833180.0         |-0.07         |\n",
      "+------------------------------+-----------+------------------+------------------+------------------+------------+-----------+-----------------+--------------+\n",
      "only showing top 10 rows"
     ]
    }
   ],
   "source": [
    "zone_summary.printSchema()\n",
    "zone_summary.show(10, truncate=False)"
   ]
  },
  {
   "cell_type": "code",
   "execution_count": null,
   "id": "0ef302e3-ac54-4706-b623-8d8c0d6f51d3",
   "metadata": {},
   "outputs": [],
   "source": []
  }
 ],
 "metadata": {
  "kernelspec": {
   "display_name": "PySpark",
   "language": "python",
   "name": "pysparkkernel"
  },
  "language_info": {
   "codemirror_mode": {
    "name": "python",
    "version": 3
   },
   "file_extension": ".py",
   "mimetype": "text/x-python",
   "name": "pyspark",
   "pygments_lexer": "python3"
  }
 },
 "nbformat": 4,
 "nbformat_minor": 5
}
